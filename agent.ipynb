{
 "cells": [
  {
   "cell_type": "code",
   "execution_count": 20,
   "metadata": {},
   "outputs": [],
   "source": [
    "from langchain import hub\n",
    "from langchain.agents import AgentExecutor, create_openai_functions_agent\n",
    "from langchain_community.tools import WikipediaQueryRun\n",
    "from langchain_community.utilities import WikipediaAPIWrapper\n",
    "from langchain_community.llms import Cohere\n",
    "from langchain_openai import OpenAI\n",
    "from langchain_openai import ChatOpenAI\n",
    "\n",
    "import getpass\n",
    "import os\n",
    "\n",
    "# os.environ[\"COHERE_API_KEY\"] = getpass.getpass()\n",
    "os.environ[\"OPENAI_API_KEY\"] = getpass.getpass()"
   ]
  },
  {
   "cell_type": "code",
   "execution_count": 21,
   "metadata": {},
   "outputs": [],
   "source": [
    "from langchain.pydantic_v1 import BaseModel, Field\n",
    "from langchain.tools import BaseTool, StructuredTool, tool"
   ]
  },
  {
   "cell_type": "code",
   "execution_count": 48,
   "metadata": {},
   "outputs": [],
   "source": [
    "@tool\n",
    "def fill_t1_form(background_info : str, reason_1 : bool, reason_2 : bool, reason_3 : bool, reason_4 : bool, reason_5 : bool, reason_6 : bool, reason_7 : bool, reason_8 : bool) -> str:\n",
    "    \"\"\"\n",
    "    Fills the T1 form for the user.\n",
    "    Background Information: Information about the landlord and the tenant.\n",
    "    Reason 1: Landlord charged illegal rent.\n",
    "    Reason 2: Paid illegal charge to landlord/agent/superintendent.\n",
    "    Reason 3: Landlord misused last month's rent deposit.\n",
    "    Reason 4: Landlord denied access to rental unit despite agreement.\n",
    "    Reason 5: Landlord owes interest on last month's rent deposit.\n",
    "    Reason 6: Landlord ended tenancy without compensation.\n",
    "    Reason 7: Landlord sold personal property without paying proceeds.\n",
    "    Reason 8: Landlord failed to notify about Order Prohibiting Rent Increase.\n",
    "    \"\"\"\n",
    "    return {\n",
    "        \"reason_1\" : reason_1,\n",
    "        \"reason_2\" : reason_2,\n",
    "        \"reason_3\" : reason_3,\n",
    "        \"reason_4\" : reason_4,\n",
    "        \"reason_5\" : reason_5,\n",
    "        \"reason_6\" : reason_6,\n",
    "        \"reason_7\" : reason_7,\n",
    "        \"reason_8\" : reason_8\n",
    "    }"
   ]
  },
  {
   "cell_type": "code",
   "execution_count": 44,
   "metadata": {},
   "outputs": [
    {
     "name": "stdout",
     "output_type": "stream",
     "text": [
      "fill_t1_form\n",
      "fill_t1_form(background_info: str, reason_1: bool, reason_2: bool, reason_3: bool, reason_4: bool, reason_5: bool, reason_6: bool, reason_7: bool, reason_8: bool) -> str - Fills the T1 form with the given reasons.\n",
      "    Background Information: Information about the landlord and the tenant.\n",
      "    Reason 1: Landlord charged illegal rent.\n",
      "    Reason 2: Paid illegal charge to landlord/agent/superintendent.\n",
      "    Reason 3: Landlord misused last month's rent deposit.\n",
      "    Reason 4: Landlord denied access to rental unit despite agreement.\n",
      "    Reason 5: Landlord owes interest on last month's rent deposit.\n",
      "    Reason 6: Landlord ended tenancy without compensation.\n",
      "    Reason 7: Landlord sold personal property without paying proceeds.\n",
      "    Reason 8: Landlord failed to notify about Order Prohibiting Rent Increase.\n",
      "{'background_info': {'title': 'Background Info', 'type': 'string'}, 'reason_1': {'title': 'Reason 1', 'type': 'boolean'}, 'reason_2': {'title': 'Reason 2', 'type': 'boolean'}, 'reason_3': {'title': 'Reason 3', 'type': 'boolean'}, 'reason_4': {'title': 'Reason 4', 'type': 'boolean'}, 'reason_5': {'title': 'Reason 5', 'type': 'boolean'}, 'reason_6': {'title': 'Reason 6', 'type': 'boolean'}, 'reason_7': {'title': 'Reason 7', 'type': 'boolean'}, 'reason_8': {'title': 'Reason 8', 'type': 'boolean'}}\n"
     ]
    }
   ],
   "source": [
    "print(fill_t1_form.name)\n",
    "print(fill_t1_form.description)\n",
    "print(fill_t1_form.args)"
   ]
  },
  {
   "cell_type": "code",
   "execution_count": 49,
   "metadata": {},
   "outputs": [],
   "source": [
    "tools = [fill_t1_form]"
   ]
  },
  {
   "cell_type": "code",
   "execution_count": 50,
   "metadata": {},
   "outputs": [],
   "source": [
    "# api_wrapper = WikipediaAPIWrapper(top_k_results=1, doc_content_chars_max=100)\n",
    "# tools = [WikipediaQueryRun(api_wrapper=api_wrapper)]\n",
    "\n",
    "# Get the prompt to use - you can modify this!\n",
    "prompt = hub.pull(\"hwchase17/openai-functions-agent\")\n",
    "\n",
    "# Choose the LLM that will drive the agent\n",
    "# llm = Cohere(model=\"command-nightly\", max_tokens=256, temperature=0)\n",
    "llm = ChatOpenAI(model=\"gpt-3.5-turbo-1106\")\n",
    "\n",
    "# Construct the JSON agent\n",
    "agent = create_openai_functions_agent(llm, tools, prompt)\n",
    "\n",
    "# Create an agent executor by passing in the agent and tools\n",
    "agent_executor = AgentExecutor(agent=agent, tools=tools, verbose=True)"
   ]
  },
  {
   "cell_type": "code",
   "execution_count": 52,
   "metadata": {},
   "outputs": [
    {
     "name": "stdout",
     "output_type": "stream",
     "text": [
      "\n",
      "\n",
      "\u001b[1m> Entering new AgentExecutor chain...\u001b[0m\n",
      "\u001b[32;1m\u001b[1;3m\n",
      "Invoking: `fill_t1_form` with `{'background_info': 'Information about the landlord and the tenant.', 'reason_1': False, 'reason_2': False, 'reason_3': False, 'reason_4': False, 'reason_5': True, 'reason_6': False, 'reason_7': False, 'reason_8': False}`\n",
      "\n",
      "\n",
      "\u001b[0m\u001b[36;1m\u001b[1;3m{'reason_1': False, 'reason_2': False, 'reason_3': False, 'reason_4': False, 'reason_5': True, 'reason_6': False, 'reason_7': False, 'reason_8': False}\u001b[0m\u001b[32;1m\u001b[1;3mThe T1 form has been filled out with the reason \"Landlord owes interest on last month's rent deposit.\" You can now review and submit the form to address this issue with your landlord.\u001b[0m\n",
      "\n",
      "\u001b[1m> Finished chain.\u001b[0m\n"
     ]
    },
    {
     "data": {
      "text/plain": [
       "{'input': \"The landlord owes me interest on the last month's rent deposit, can you fill out the T1 form for me?\",\n",
       " 'output': 'The T1 form has been filled out with the reason \"Landlord owes interest on last month\\'s rent deposit.\" You can now review and submit the form to address this issue with your landlord.'}"
      ]
     },
     "execution_count": 52,
     "metadata": {},
     "output_type": "execute_result"
    }
   ],
   "source": [
    "agent_executor.invoke({\"input\": \"The landlord owes me interest on the last month's rent deposit, can you fill out the T1 form for me?\"})"
   ]
  }
 ],
 "metadata": {
  "kernelspec": {
   "display_name": "mchack",
   "language": "python",
   "name": "python3"
  },
  "language_info": {
   "codemirror_mode": {
    "name": "ipython",
    "version": 3
   },
   "file_extension": ".py",
   "mimetype": "text/x-python",
   "name": "python",
   "nbconvert_exporter": "python",
   "pygments_lexer": "ipython3",
   "version": "3.9.18"
  }
 },
 "nbformat": 4,
 "nbformat_minor": 2
}
