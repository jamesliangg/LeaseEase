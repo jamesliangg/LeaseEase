{
 "cells": [
  {
   "cell_type": "code",
   "execution_count": 1,
   "metadata": {},
   "outputs": [],
   "source": [
    "from langchain_community.llms import Cohere\n",
    "from langchain.retrievers import ContextualCompressionRetriever, CohereRagRetriever\n",
    "from langchain.retrievers.document_compressors import CohereRerank\n",
    "from langchain_community.embeddings import CohereEmbeddings\n",
    "from langchain_community.chat_models import ChatCohere\n",
    "from langchain.text_splitter import CharacterTextSplitter\n",
    "from langchain_community.document_loaders import TextLoader\n",
    "from langchain_community.vectorstores import Chroma\n",
    "import getpass\n",
    "import os\n",
    "\n",
    "os.environ[\"COHERE_API_KEY\"] = getpass.getpass()"
   ]
  },
  {
   "cell_type": "code",
   "execution_count": 2,
   "metadata": {},
   "outputs": [],
   "source": [
    "user_query = \"Can my landlord evict me during the coronavirus pandemic?\"\n",
    "\n",
    "# Create cohere's chat model and embeddings objects\n",
    "cohere_chat_model = ChatCohere()\n",
    "cohere_embeddings = CohereEmbeddings() \n",
    "\n",
    "import pickle\n",
    "with open(\"documents.pkl\", \"rb\") as f:\n",
    "    documents = pickle.load(f)"
   ]
  },
  {
   "cell_type": "code",
   "execution_count": 3,
   "metadata": {},
   "outputs": [
    {
     "name": "stdout",
     "output_type": "stream",
     "text": [
      "[Document(page_content='(5)\\xa0\\xa0If a tenant has given a landlord notice under subsection 53 (2) and subsection 54 (2) or (4) applies, the Board shall not issue an eviction order in a proceeding regarding termination of the tenancy until the landlord has compensated the tenant in accordance with subsection 54 (2) or (4), as applicable.  2006, c.\\xa017, s.\\xa083\\xa0(5); 2020, c. 16, Sched. 4, s. 17 (2).\\nRefusal for certain arrears of rent\\n(6)\\xa0\\xa0Without restricting the generality of subsections (1) and (2), if a hearing is held in respect of an application under section 69 for an order evicting a tenant based on arrears of rent arising in whole or in part during the period beginning on March 17, 2020 and ending on the prescribed date, in determining whether to exercise its powers under subsection (1) the Board shall consider whether the landlord has attempted to negotiate an agreement with the tenant including terms of payment for the tenant’s arrears. 2020, c. 16, Sched. 4, s. 17 (3).\\nApplication of subs. (6)', metadata={'source': 'rta.txt', 'relevance_score': 0.9592307}), Document(page_content='(3)\\xa0\\xa0For greater certainty, paragraph 2 of subsection (1) does not authorize a landlord to give a tenant notice of termination of the tenancy on the ground that the tenant has ceased to be eligible for, or has failed to take any step necessary to maintain eligibility for, rent-geared-to-income assistance as defined in section 38 of the Housing Services Act, 2011. 2016, c. 25, Sched. 5, s. 1.\\nSection Amendments with date in force (d/m/y)\\n2016, c. 25, Sched. 5, s. 1 - 08/12/2016\\nNOTICE BY LANDLORD BEFORE END OF PERIOD OR TERM\\nNon-payment of rent\\n59 (1)\\xa0\\xa0If a tenant fails to pay rent lawfully owing under a tenancy agreement, the landlord may give the tenant notice of termination of the tenancy effective not earlier than,\\n\\t(a)\\tthe 7th day after the notice is given, in the case of a daily or weekly tenancy; and\\n\\t(b)\\tthe 14th day after the notice is given, in all other cases.  2006, c.\\xa017, s.\\xa059\\xa0(1).\\nContents of notice', metadata={'source': 'rta.txt', 'relevance_score': 0.40368438}), Document(page_content='22 A landlord shall not at any time during a tenant’s occupancy of a rental unit and before the day on which an order evicting the tenant is executed substantially interfere with the reasonable enjoyment of the rental unit or the residential complex in which it is located for all usual purposes by a tenant or members of his or her household.  2006, c.\\xa017, s.\\xa022.\\nLandlord not to harass, etc.\\n23 A landlord shall not harass, obstruct, coerce, threaten or interfere with a tenant.  2006, c.\\xa017, s.\\xa023.\\nChanging locks\\n24 A landlord shall not alter the locking system on a door giving entry to a rental unit or residential complex or cause the locking system to be altered during the tenant’s occupancy of the rental unit without giving the tenant replacement keys.  2006, c.\\xa017, s.\\xa024.\\nPrivacy\\n25 A landlord may enter a rental unit only in accordance with section 26 or 27.  2006, c.\\xa017, s.\\xa025.\\nEntry without notice\\nEntry without notice, emergency, consent', metadata={'source': 'rta.txt', 'relevance_score': 0.2856708})]\n"
     ]
    }
   ],
   "source": [
    "# Create a vector store from the documents\n",
    "db = Chroma.from_documents(documents, cohere_embeddings)\n",
    "\n",
    "# Create Cohere's reranker with the vector DB using Cohere's embeddings as the base retriever\n",
    "cohere_rerank = CohereRerank()\n",
    "compression_retriever = ContextualCompressionRetriever(\n",
    "    base_compressor=cohere_rerank, \n",
    "    base_retriever=db.as_retriever()\n",
    ")\n",
    "\n",
    "compressed_docs = compression_retriever.get_relevant_documents(user_query)\n",
    "# Print the relevant documents from using the embeddings and reranker\n",
    "print(compressed_docs)"
   ]
  },
  {
   "cell_type": "code",
   "execution_count": 4,
   "metadata": {},
   "outputs": [
    {
     "name": "stdout",
     "output_type": "stream",
     "text": [
      "{'id': 'doc-0', 'snippet': '(5)\\xa0\\xa0If a tenant has given a landlord notice under subsection 53 (2) and subsection 54 (2) or (4) applies, the Board shall not issue an eviction order in a proceeding regarding termination of the tenancy until the landlord has compensated the tenant in accordance with subsection 54 (2) or (4), as applicable.  2006, c.\\xa017, s.\\xa083\\xa0(5); 2020, c. 16, Sched. 4, s. 17 (2).\\nRefusal for certain arrears of rent\\n(6)\\xa0\\xa0Without restricting the generality of subsections (1) and (2), if a hearing is held in respect of an application under section 69 for an order evicting a tenant based on arrears of rent arising in whole or in part during the period beginning on March 17, 2020 and ending on the prescribed date, in determining whether to exercise its powers under subsection (1) the Board shall consider whether the landlord has attempted to negotiate an agreement with the tenant including terms of payment for the tenant’s arrears. 2020, c. 16, Sched. 4, s. 17 (3).\\nApplication of subs. (6)'}\n",
      "\n",
      "\n",
      "(5)  If a tenant has given a landlord notice under subsection 53 (2) and subsection 54 (2) or (4) applies, the Board shall not issue an eviction order in a proceeding regarding termination of the tenancy until the landlord has compensated the tenant in accordance with subsection 54 (2) or (4), as applicable.  2006, c. 17, s. 83 (5); 2020, c. 16, Sched. 4, s. 17 (2).\n",
      "Refusal for certain arrears of rent\n",
      "(6)  Without restricting the generality of subsections (1) and (2), if a hearing is held in respect of an application under section 69 for an order evicting a tenant based on arrears of rent arising in whole or in part during the period beginning on March 17, 2020 and ending on the prescribed date, in determining whether to exercise its powers under subsection (1) the Board shall consider whether the landlord has attempted to negotiate an agreement with the tenant including terms of payment for the tenant’s arrears. 2020, c. 16, Sched. 4, s. 17 (3).\n",
      "Application of subs. (6)\n",
      "\n",
      "\n",
      "------------------------------\n",
      "\n",
      "\n",
      "I am sorry to hear that you are going through this situation. \n",
      "\n",
      "The Coronavirus (COVID-19) pandemic has caused a lot of uncertainty around rental agreements and evictions. Depending on your location, there may be certain protections for you as a tenant during this time. However, these protections vary widely by location. \n",
      "\n",
      "In the United States, for example, the federal government has introduced a moratorium on evictions until July 2021. prefixed by an assessment of the landlord's attempts to negotiate an agreement with the tenant. This was done to prevent the spread of COVID-19 among households struggling to pay rent, as this could pose a threat to public health and safety. However, exemptions apply and such policies may differ across states and territories, so it is important to check the specific rules of your residence. \n",
      "\n",
      "In Canada, the government has asked landlords to offer tenants at least 90 days' notice before seeking eviction and to make efforts to help tenants access government emergency assistance programs. \n",
      "\n",
      "I recommend that you seek legal advice from a registered professional to understand your rights and protections and to assist you with the eviction process, if necessary. \n",
      "\n",
      "It is important to note that these rules and guidelines may change over time with the evolving situation, so it is always a good idea to check the latest updates specific to your location. \n",
      "\n",
      "I hope this information helps, and please don't hesitate to ask if you have any further questions.\n",
      "[{'start': 400, 'end': 440, 'text': 'moratorium on evictions until July 2021.', 'document_ids': ['doc-0', 'doc-0']}, {'start': 456, 'end': 536, 'text': \"assessment of the landlord's attempts to negotiate an agreement with the tenant.\", 'document_ids': ['doc-0', 'doc-0']}]\n"
     ]
    }
   ],
   "source": [
    "# Create the cohere rag retriever using the chat model \n",
    "rag = CohereRagRetriever(llm=cohere_chat_model)\n",
    "\n",
    "docs = rag.get_relevant_documents(\n",
    "    user_query,\n",
    "    source_documents=compressed_docs,\n",
    ")\n",
    "\n",
    "# Print the documents\n",
    "for doc in docs[:-1]:\n",
    "    print(doc.metadata)\n",
    "    print(\"\\n\\n\" + doc.page_content)\n",
    "    print(\"\\n\\n\" + \"-\" * 30 + \"\\n\\n\")\n",
    "    \n",
    "# Print the final generation \n",
    "answer = docs[-1].page_content\n",
    "print(answer)\n",
    "# Print the final citations \n",
    "citations = docs[-1].metadata['citations']\n",
    "print(citations)"
   ]
  }
 ],
 "metadata": {
  "kernelspec": {
   "display_name": "base",
   "language": "python",
   "name": "python3"
  },
  "language_info": {
   "codemirror_mode": {
    "name": "ipython",
    "version": 3
   },
   "file_extension": ".py",
   "mimetype": "text/x-python",
   "name": "python",
   "nbconvert_exporter": "python",
   "pygments_lexer": "ipython3",
   "version": "3.9.18"
  }
 },
 "nbformat": 4,
 "nbformat_minor": 2
}
