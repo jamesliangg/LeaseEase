{
 "cells": [
  {
   "cell_type": "code",
   "execution_count": 1,
   "metadata": {},
   "outputs": [],
   "source": [
    "# load docs.pkl using pickle\n",
    "import pickle\n",
    "\n",
    "with open('docs.pkl', 'rb') as f:\n",
    "    docs = pickle.load(f)"
   ]
  },
  {
   "cell_type": "code",
   "execution_count": 2,
   "metadata": {},
   "outputs": [],
   "source": [
    "def _pretty_print(docs):\n",
    "    for doc in docs:\n",
    "        print(doc.metadata)\n",
    "        print(\"\\n\\n\" + doc.page_content)\n",
    "        print(\"\\n\\n\" + \"-\" * 30 + \"\\n\\n\")"
   ]
  },
  {
   "cell_type": "code",
   "execution_count": 4,
   "metadata": {},
   "outputs": [
    {
     "name": "stdout",
     "output_type": "stream",
     "text": [
      "{'id': 'doc-0', 'snippet': '116 (1)\\xa0\\xa0A landlord shall not increase the rent charged to a tenant for a rental unit without first giving the tenant at least 90 days written notice of the landlord’s intention to do so.  2006, c.\\xa017, s.\\xa0116\\xa0(1).\\nSame\\n(2)\\xa0\\xa0Subsection (1) applies even if the rent charged is increased in accordance with an order under section 126.  2006, c.\\xa017, s.\\xa0116\\xa0(2).\\nContents of notice\\n(3)\\xa0\\xa0The notice shall be in a form approved by the Board and shall set out the landlord’s intention to increase the rent and the amount of the new rent.  2006, c.\\xa017, s.\\xa0116\\xa0(3).\\nIncrease void without notice\\n(4)\\xa0\\xa0An increase in rent is void if the landlord has not given the notice required by this section, and the landlord must give a new notice before the landlord can take the increase.  2006, c.\\xa017, s.\\xa0116\\xa0(4).\\nCompliance by landlord, no notice required'}\n",
      "\n",
      "\n",
      "116 (1)  A landlord shall not increase the rent charged to a tenant for a rental unit without first giving the tenant at least 90 days written notice of the landlord’s intention to do so.  2006, c. 17, s. 116 (1).\n",
      "Same\n",
      "(2)  Subsection (1) applies even if the rent charged is increased in accordance with an order under section 126.  2006, c. 17, s. 116 (2).\n",
      "Contents of notice\n",
      "(3)  The notice shall be in a form approved by the Board and shall set out the landlord’s intention to increase the rent and the amount of the new rent.  2006, c. 17, s. 116 (3).\n",
      "Increase void without notice\n",
      "(4)  An increase in rent is void if the landlord has not given the notice required by this section, and the landlord must give a new notice before the landlord can take the increase.  2006, c. 17, s. 116 (4).\n",
      "Compliance by landlord, no notice required\n",
      "\n",
      "\n",
      "------------------------------\n",
      "\n",
      "\n",
      "{'id': 'doc-1', 'snippet': '123 (1)\\xa0\\xa0A landlord may increase the rent charged to a tenant for a rental unit as prescribed at any time if the landlord and the tenant agree that the landlord will add any of the following with respect to the tenant’s occupancy of the rental unit:\\n\\t1.\\tA parking space.\\n\\t2.\\tA prescribed service, facility, privilege, accommodation or thing.  2006, c.\\xa017, s.\\xa0123\\xa0(1).\\nApplication\\n(2)\\xa0\\xa0Subsection (1) applies despite sections 116 and 119 and despite any order under paragraph 6 of subsection 30 (1).  2006, c.\\xa017, s.\\xa0123\\xa0(2).\\nCoerced agreement void\\n124 An agreement under section 121 or 123 is void if it has been entered into as a result of coercion or as a result of a false, incomplete or misleading representation by the landlord or an agent of the landlord.  2006, c.\\xa017, s.\\xa0124.\\nDecrease in services, etc.'}\n",
      "\n",
      "\n",
      "123 (1)  A landlord may increase the rent charged to a tenant for a rental unit as prescribed at any time if the landlord and the tenant agree that the landlord will add any of the following with respect to the tenant’s occupancy of the rental unit:\n",
      "\t1.\tA parking space.\n",
      "\t2.\tA prescribed service, facility, privilege, accommodation or thing.  2006, c. 17, s. 123 (1).\n",
      "Application\n",
      "(2)  Subsection (1) applies despite sections 116 and 119 and despite any order under paragraph 6 of subsection 30 (1).  2006, c. 17, s. 123 (2).\n",
      "Coerced agreement void\n",
      "124 An agreement under section 121 or 123 is void if it has been entered into as a result of coercion or as a result of a false, incomplete or misleading representation by the landlord or an agent of the landlord.  2006, c. 17, s. 124.\n",
      "Decrease in services, etc.\n",
      "\n",
      "\n",
      "------------------------------\n",
      "\n",
      "\n",
      "{'type': 'model_response', 'citations': [{'start': 62, 'end': 90, 'text': 'at least 90 days in advance.', 'document_ids': ['doc-0', 'doc-0', 'doc-0']}, {'start': 110, 'end': 117, 'text': 'written', 'document_ids': ['doc-0', 'doc-0', 'doc-0']}, {'start': 152, 'end': 168, 'text': 'increase amount.', 'document_ids': ['doc-0', 'doc-0', 'doc-0']}, {'start': 290, 'end': 303, 'text': 'parking space', 'document_ids': ['doc-1', 'doc-1', 'doc-1']}, {'start': 307, 'end': 325, 'text': 'prescribed service', 'document_ids': ['doc-1', 'doc-1', 'doc-1']}, {'start': 327, 'end': 335, 'text': 'facility', 'document_ids': ['doc-1', 'doc-1', 'doc-1']}, {'start': 337, 'end': 346, 'text': 'privilege', 'document_ids': ['doc-1', 'doc-1', 'doc-1']}, {'start': 348, 'end': 361, 'text': 'accommodation', 'document_ids': ['doc-1', 'doc-1', 'doc-1']}, {'start': 366, 'end': 372, 'text': 'thing.', 'document_ids': ['doc-1', 'doc-1', 'doc-1']}], 'search_results': None, 'search_queries': [{'text': 'landlord raise rent without notifying tenants australia', 'generation_id': 'c398bb99-00cb-4f15-b54c-402f286b1806'}, {'text': 'landlord rent increase notice australia', 'generation_id': 'c398bb99-00cb-4f15-b54c-402f286b1806'}, {'text': 'australian landlord rights rental agreement', 'generation_id': 'c398bb99-00cb-4f15-b54c-402f286b1806'}], 'token_count': {'prompt_tokens': 2498, 'response_tokens': 77, 'total_tokens': 2575, 'billed_tokens': 88}}\n",
      "\n",
      "\n",
      "A landlord can increase the rent if they inform the tenant at at least 90 days in advance. The notice must be written and must inform the tenant of the increase amount.\n",
      "\n",
      "In the case of a verbal agreement, the landlord can increase the rent if they and the tenant agree to the addition of a parking space, a prescribed service, facility, privilege, accommodation, or thing.\n",
      "\n",
      "\n",
      "------------------------------\n",
      "\n",
      "\n"
     ]
    }
   ],
   "source": [
    "_pretty_print(docs)"
   ]
  }
 ],
 "metadata": {
  "kernelspec": {
   "display_name": "mchack",
   "language": "python",
   "name": "python3"
  },
  "language_info": {
   "codemirror_mode": {
    "name": "ipython",
    "version": 3
   },
   "file_extension": ".py",
   "mimetype": "text/x-python",
   "name": "python",
   "nbconvert_exporter": "python",
   "pygments_lexer": "ipython3",
   "version": "3.9.18"
  }
 },
 "nbformat": 4,
 "nbformat_minor": 2
}
